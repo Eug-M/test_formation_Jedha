{
 "cells": [
  {
   "cell_type": "code",
   "execution_count": null,
   "metadata": {},
   "outputs": [],
   "source": [
    "\"\"\"\n",
    "Jour 1\n",
    "\"\"\""
   ]
  },
  {
   "cell_type": "code",
   "execution_count": 5,
   "metadata": {},
   "outputs": [
    {
     "name": "stdout",
     "output_type": "stream",
     "text": [
      "Hello\n",
      "I\n",
      "Michel\n",
      "am\n",
      "_________\n",
      "Hello\n",
      "I\n",
      "am\n",
      "Michel\n"
     ]
    }
   ],
   "source": [
    "### Exo 2\n",
    "\n",
    "michel = [\"Hello\", \"I\", \"Michel\", \"am\"]\n",
    "for i in michel:\n",
    "    print(i)\n",
    "print(\"_________\")\n",
    "nouveau_3 = michel.pop(2)\n",
    "michel.append(nouveau_3)\n",
    "for i in michel:\n",
    "    print(i)\n"
   ]
  },
  {
   "cell_type": "code",
   "execution_count": 44,
   "metadata": {},
   "outputs": [
    {
     "name": "stdout",
     "output_type": "stream",
     "text": [
      "[9, 12, 16, 34, 58]\n",
      "[9, 12, 16, 34, 58]\n"
     ]
    }
   ],
   "source": [
    "age = [12, 16, 34, 58, 9]\n",
    "age.sort()\n",
    "print(age)\n",
    "# OU\n",
    "age = [12, 16, 34, 58, 9]\n",
    "nouveau_premier = age.pop(4)\n",
    "age.insert(0, nouveau_premier)\n",
    "print(age)"
   ]
  },
  {
   "cell_type": "code",
   "execution_count": 46,
   "metadata": {},
   "outputs": [
    {
     "name": "stdout",
     "output_type": "stream",
     "text": [
      "Luke Skywalker is 172 cm tall and weighs 77 kg. He was born in 19BBY\n",
      "Luke Skywalker is 172 cm tall and weighs 77 kg. He was born in 19BBY\n",
      "Luke Skywalker is 172 cm tall and weighs 77 kg. He was born in 19BBY\n"
     ]
    }
   ],
   "source": [
    "import requests\n",
    "request = requests.get(\"https://swapi.dev/api/people/1/\")\n",
    "dic = request.json()\n",
    "for clef, valeur in dic.items():\n",
    "    if clef == \"name\":\n",
    "        nom = dic[clef]\n",
    "    elif clef == \"height\":\n",
    "        taille = dic[clef]\n",
    "    elif clef == \"mass\":\n",
    "        poids = dic[clef]\n",
    "    elif clef == \"birth_year\":\n",
    "        naiss = dic[clef]\n",
    "print(nom, \"is\", taille, \"cm tall and weighs\", poids, \"kg. He was born in\", naiss)\n",
    "# OU\n",
    "print(\"{} is {} cm tall and weighs {} kg. He was born in {}\".format(dic[\"name\"], dic[\"height\"], dic[\"mass\"], dic[\"birth_year\"]))\n",
    "# OU\n",
    "print(f'{dic[\"name\"]} is {dic[\"height\"]} cm tall and weighs {dic[\"mass\"]} kg. He was born in {dic[\"birth_year\"]}')\n",
    "\n",
    "# pour trouver le numéro de Leia :\n",
    "i = 2\n",
    "while dic['name'] != 'Leia Organa':\n",
    "    request = requests.get(\"https://swapi.dev/api/people/\"+str(i))\n",
    "    dic = request.json()\n",
    "    i += 1"
   ]
  },
  {
   "cell_type": "code",
   "execution_count": 48,
   "metadata": {},
   "outputs": [
    {
     "name": "stdout",
     "output_type": "stream",
     "text": [
      "total average = 156.0\n",
      "total average modified = 35.42857142857143\n"
     ]
    }
   ],
   "source": [
    "kilometres_travelled = [50, 10, 100, 25, 1000, 21, 12,30]\n",
    "total = 0\n",
    "taille = 0\n",
    "for i in kilometres_travelled:\n",
    "    total += i\n",
    "    taille += 1\n",
    "print(\"total average =\", total/taille)\n",
    "kilometres_travelled.sort()\n",
    "_ = kilometres_travelled.pop(-1)\n",
    "total = 0\n",
    "taille = 0\n",
    "for i in kilometres_travelled:\n",
    "    total += i\n",
    "    taille += 1\n",
    "print(\"total average modified =\", total/taille)"
   ]
  },
  {
   "cell_type": "code",
   "execution_count": 71,
   "metadata": {},
   "outputs": [],
   "source": [
    "### Exo 3\n",
    "\n",
    "def sqrt(number):\n",
    "    racinecarre = number**(1/2)\n",
    "    return(racinecarre)"
   ]
  },
  {
   "cell_type": "code",
   "execution_count": 72,
   "metadata": {},
   "outputs": [
    {
     "data": {
      "text/plain": [
       "5.0"
      ]
     },
     "execution_count": 72,
     "metadata": {},
     "output_type": "execute_result"
    }
   ],
   "source": [
    "sqrt(25)"
   ]
  },
  {
   "cell_type": "code",
   "execution_count": 93,
   "metadata": {},
   "outputs": [],
   "source": [
    "### Exo 4\n",
    "def interests(amount_placed=0, years=0, rate=0.1):\n",
    "    try:\n",
    "        if type(amount_placed) == str or type(years) == str or type(rate) == str:\n",
    "            raise ValueError(\"vous devez entrer des nombres et pas des chaînes de caractères\")\n",
    "        if amount_placed <0 or years <0 or rate <0:\n",
    "            raise ValueError(\"les valeurs en entrée doivent être des nombres positifs\")\n",
    "        if type(rate) == int:\n",
    "            raise ValueError(\"rate doit être un nombre flottant, pas un pourcentage\")\n",
    "        total = amount_placed*(1+rate)**years\n",
    "        return total\n",
    "    except ValueError as err:\n",
    "        print(err)"
   ]
  },
  {
   "cell_type": "code",
   "execution_count": 98,
   "metadata": {},
   "outputs": [
    {
     "name": "stdout",
     "output_type": "stream",
     "text": [
      "rate doit être un nombre flottant, pas un pourcentage\n"
     ]
    }
   ],
   "source": [
    "interests(1000, 10, 0.1)"
   ]
  },
  {
   "cell_type": "code",
   "execution_count": 58,
   "metadata": {},
   "outputs": [
    {
     "name": "stdout",
     "output_type": "stream",
     "text": [
      "Your answer:  noir\n",
      "Sorry, that is not the correct answer. You have 2 chance(s) left\n",
      "Your answer:  blanc\n",
      "Good job! This is the right answer\n",
      "Your answer:  \n",
      "Sorry, that is not the correct answer. You have 1 chance(s) left\n",
      "Your answer:  1\n",
      "Sorry, that is not the correct answer. You have 0 chance(s) left\n",
      "Your answer:  4\n",
      "Too bad, you lost the game!\n",
      "Your answer:  moi\n",
      "Good job! This is the right answer\n"
     ]
    }
   ],
   "source": [
    "### Exo 5 : Build a quizz\n",
    "\n",
    "def test_quizz(question_posee, bonne_rep, wrong_answers):\n",
    "    rep_donnee = input(question_posee)\n",
    "    print(\"Your answer: \", rep_donnee)\n",
    "    if rep_donnee == bonne_rep:\n",
    "        print(\"Good job! This is the right answer\")\n",
    "    else:\n",
    "        while rep_donnee != bonne_rep and wrong_answers < 3:\n",
    "            wrong_answers += 1\n",
    "            print(f\"Sorry, that is not the correct answer. You have {3-wrong_answers} chance(s) left\")\n",
    "            rep_donnee = input(question_posee)\n",
    "            print(\"Your answer: \", rep_donnee)\n",
    "        if wrong_answers < 3:\n",
    "            print(\"Good job! This is the right answer\")\n",
    "        else:\n",
    "            print(\"Too bad, you lost the game!\")\n",
    "    return(wrong_answers)\n",
    "\n",
    "\n",
    "wrong_answers = 0\n",
    "wrong_answers = test_quizz(\"quelle est la couleur du cheval blanc d'Henry IV ?\", \"blanc\", wrong_answers)\n",
    "wrong_answers = test_quizz(\"combien font 2 + 2 ?\", \"4\", wrong_answers)\n",
    "wrong_answers = test_quizz(\"qui est le meilleur ?\", \"moi\", wrong_answers)\n",
    "\n",
    "if wrong_answers < 3:\n",
    "    print(\"Well done! You are the quiz winner!\")\n",
    "\n"
   ]
  },
  {
   "cell_type": "code",
   "execution_count": 120,
   "metadata": {},
   "outputs": [
    {
     "name": "stdout",
     "output_type": "stream",
     "text": [
      "Exo 1\n",
      "La liste contient la valeur 10\n",
      "la liste ne contient pas la valeur 10\n",
      "Exo 2\n",
      "la liste ne contient que des chiffres pairs\n",
      "la liste ne contient pas que des chiffres pairs\n",
      "Exo 3\n",
      "90\n",
      "84\n",
      "Exo 4\n",
      "la liste est rangée dans l'ordre croissant\n",
      "la liste n'est pas rangée dans l'ordre croissant\n",
      "Exo 5\n",
      "La liste contient la valeur 10\n",
      "la liste ne contient pas la valeur 10\n",
      "Exo 6\n",
      "la liste ne contient que des chiffres pairs\n",
      "la liste ne contient pas que des chiffres pairs\n",
      "Exo 7\n",
      "la liste est rangée dans l'ordre croissant\n",
      "la liste n'est pas rangée dans l'ordre croissant\n"
     ]
    }
   ],
   "source": [
    "### Exos supplémentaires d'Antoine\n",
    "print(\"Exo 1\")\n",
    "l1=[8,6,5,9,5,10]\n",
    "if 10 in l1:\n",
    "    print(\"La liste contient la valeur 10\")\n",
    "else:\n",
    "    print(\"la liste ne contient pas la valeur 10\")\n",
    "l2=[8,6,5,9,5,20]\n",
    "if 10 in l2:\n",
    "    print(\"La liste contient la valeur 10\")\n",
    "else:\n",
    "    print(\"la liste ne contient pas la valeur 10\")\n",
    "\n",
    "print(\"Exo 2\")\n",
    "l1=[2,4,8,10]\n",
    "test = 1\n",
    "for l in l1:\n",
    "    if l%2 == 1:\n",
    "        test = 0\n",
    "if test == 1:\n",
    "    print(\"la liste ne contient que des chiffres pairs\")\n",
    "else:\n",
    "    print(\"la liste ne contient pas que des chiffres pairs\")\n",
    "\n",
    "l2=[2,4,8,11]\n",
    "test = 1\n",
    "for l in l2:\n",
    "    if l%2 == 1:\n",
    "        test = 0\n",
    "if test == 1:\n",
    "    print(\"la liste ne contient que des chiffres pairs\")\n",
    "else:\n",
    "    print(\"la liste ne contient pas que des chiffres pairs\")\n",
    "\n",
    "print(\"Exo 3\")\n",
    "l1=[0,10,5,2,6,84,5,1,90,3]\n",
    "max = l1[0]\n",
    "for i in range(1,len(l1)):\n",
    "    if l1[i] > max:\n",
    "        max = l1[i]\n",
    "print(max)\n",
    "l2=[0,10,5,2,6,84,5,1,7,3]\n",
    "max = l2[0]\n",
    "for i in range(1,len(l2)):\n",
    "    if l2[i] > max:\n",
    "        max = l2[i]\n",
    "print(max)\n",
    "\n",
    "print(\"Exo 4\")\n",
    "l1=[2,4,8,10]\n",
    "prec = l1[0]\n",
    "test = 1\n",
    "for i in range(1,len(l1)):\n",
    "    if l1[i] > prec:\n",
    "        prec = l1[i]\n",
    "    else:\n",
    "        test = 0\n",
    "if test == 1:\n",
    "    print(\"la liste est rangée dans l'ordre croissant\")\n",
    "else:\n",
    "    print(\"la liste n'est pas rangée dans l'ordre croissant\")\n",
    "l2=[2,8,4,10]\n",
    "rec = l2[0]\n",
    "test = 1\n",
    "for i in range(1,len(l2)):\n",
    "    if l2[i] > prec:\n",
    "        prec = l2[i]\n",
    "    else:\n",
    "        test = 0\n",
    "if test == 1:\n",
    "    print(\"la liste est rangée dans l'ordre croissant\")\n",
    "else:\n",
    "    print(\"la liste n'est pas rangée dans l'ordre croissant\")\n",
    "\n",
    "print(\"Exo 5\") \n",
    "def verif_10(liste):\n",
    "    if 10 in liste:\n",
    "        print(\"La liste contient la valeur 10\")\n",
    "    else:\n",
    "        print(\"la liste ne contient pas la valeur 10\")\n",
    "l1=[8,6,5,9,5,10]\n",
    "l2=[8,6,5,9,5,20]\n",
    "verif_10(l1)\n",
    "verif_10(l2)\n",
    "\n",
    "print(\"Exo 6\")\n",
    "def verif_pairs(liste):\n",
    "    test = 1\n",
    "    for l in liste:\n",
    "        if l%2 == 1:\n",
    "            test = 0\n",
    "    if test == 1:\n",
    "        print(\"la liste ne contient que des chiffres pairs\")\n",
    "    else:\n",
    "        print(\"la liste ne contient pas que des chiffres pairs\")\n",
    "l1 = [2,4,8,10]\n",
    "l2= [2,4,8,11]\n",
    "verif_pairs(l1)\n",
    "verif_pairs(l2)\n",
    "\n",
    "print(\"Exo 7\")\n",
    "def verif_croissant(liste):\n",
    "    prec = liste[0]\n",
    "    test = True\n",
    "    for i in range(1,len(liste)):\n",
    "        if liste[i] > prec:\n",
    "            prec = liste[i]\n",
    "        else:\n",
    "            test = False\n",
    "    if test == True:\n",
    "        print(\"la liste est rangée dans l'ordre croissant\")\n",
    "    else:\n",
    "        print(\"la liste n'est pas rangée dans l'ordre croissant\")\n",
    "l1=[2,4,8,10]\n",
    "l2=[2,8,4,10]\n",
    "verif_croissant(l1)\n",
    "verif_croissant(l2)"
   ]
  },
  {
   "cell_type": "code",
   "execution_count": 100,
   "metadata": {},
   "outputs": [
    {
     "data": {
      "text/plain": [
       "'\\nJour 2\\n'"
      ]
     },
     "execution_count": 100,
     "metadata": {},
     "output_type": "execute_result"
    }
   ],
   "source": [
    "\"\"\"\n",
    "Jour 2\n",
    "\"\"\""
   ]
  },
  {
   "cell_type": "code",
   "execution_count": 189,
   "metadata": {},
   "outputs": [],
   "source": [
    "### Exo 1\n",
    "class math():\n",
    "    def sqrt(self, nombre):\n",
    "        self.sqrt = nombre**(1/2)\n",
    "        return self.sqrt\n",
    "    \n",
    "    def avg(self, liste):\n",
    "        avg = 0\n",
    "        for nb in liste:\n",
    "            avg += nb\n",
    "        self.avg = avg/len(liste)\n",
    "        return self.avg\n",
    "    \n",
    "    def even_odd(self, nombre):\n",
    "        if nombre % 2 == 0:\n",
    "            self.even_odd = \"even\"\n",
    "        else:\n",
    "            self.even_odd = \"odd\"\n",
    "        return self.even_odd\n",
    "    \n",
    "    def somme(self, liste):\n",
    "        somme = 0\n",
    "        for nb in liste:\n",
    "            somme += nb\n",
    "        self.somme = somme\n",
    "        return self.somme"
   ]
  },
  {
   "cell_type": "code",
   "execution_count": 191,
   "metadata": {},
   "outputs": [
    {
     "name": "stdout",
     "output_type": "stream",
     "text": [
      "1.4142135623730951\n",
      "odd\n",
      "4.666666666666667\n",
      "14\n"
     ]
    }
   ],
   "source": [
    "nombre_1 = math()\n",
    "print(nombre_1.sqrt(2))\n",
    "print(nombre_1.even_odd(5))\n",
    "liste_1 = math()\n",
    "print(liste_1.avg([1,4,9]))\n",
    "print(liste_1.somme([1,4,9]))"
   ]
  },
  {
   "cell_type": "code",
   "execution_count": 198,
   "metadata": {},
   "outputs": [],
   "source": [
    "### Exo 2\n",
    "\n",
    "class Imputer():\n",
    "    def __init__(self, liste):\n",
    "        self.liste = liste\n",
    "    \n",
    "    def avg(self):\n",
    "        if \"None\" in self.liste:\n",
    "            indices_none = []\n",
    "            for i in range(len(self.liste)):\n",
    "                if self.liste[i] == \"None\":\n",
    "                    indices_none.append(i)\n",
    "            new_liste = self.liste[:]\n",
    "            for i in indices_none[::-1]:\n",
    "                self.liste.pop(i)\n",
    "            avge = 0\n",
    "            for nb in self.liste:\n",
    "                avge += nb\n",
    "            avge = avge/len(self.liste)\n",
    "            for i in indices_none:\n",
    "                new_liste[i] = avge\n",
    "            self.liste = new_liste\n",
    "            return self.liste\n",
    "        else:\n",
    "            return self.liste\n",
    "    \n",
    "    def avg_or_med(self, aom=\"avg\"):\n",
    "        if \"None\" in self.liste:\n",
    "            indices_none = []\n",
    "            for i in range(len(self.liste)):\n",
    "                if self.liste[i] == \"None\":\n",
    "                    indices_none.append(i)\n",
    "            new_liste = self.liste[:]\n",
    "            for i in indices_none[::-1]:\n",
    "                self.liste.pop(i)\n",
    "            if aom == \"avg\":\n",
    "                new = 0\n",
    "                for nb in self.liste:\n",
    "                    new += nb\n",
    "                new = new/len(self.liste)\n",
    "            elif aom == \"med\":\n",
    "                new = self.liste[:]\n",
    "                new.sort()\n",
    "                if len(new)%2 == 1:\n",
    "                    new = new[len(new)//2]\n",
    "                else:\n",
    "                    new = (new[len(new)//2-1] + new[len(new)//2]) /2\n",
    "            for i in indices_none:\n",
    "                new_liste[i] = new\n",
    "            self.liste = new_liste\n",
    "            return self.liste\n",
    "        else:\n",
    "            return self.liste"
   ]
  },
  {
   "cell_type": "code",
   "execution_count": 199,
   "metadata": {},
   "outputs": [
    {
     "name": "stdout",
     "output_type": "stream",
     "text": [
      "[4.0, 2, 4, 6, 4.0]\n",
      "[0, 2, 4, 6, 8]\n",
      "[5.333333333333333, 2, 4, 10, 5.333333333333333]\n",
      "[5.5, 2, 4, 10, 7, 5.5]\n"
     ]
    }
   ],
   "source": [
    "liste_1 = Imputer([\"None\", 2, 4, 6, \"None\"])\n",
    "liste_2 = Imputer([0, 2, 4, 6, 8])\n",
    "liste_1 = liste_1.avg()\n",
    "print(liste_1)\n",
    "print(liste_2.avg())\n",
    "\n",
    "liste_3 = Imputer([\"None\", 2, 4, 10, \"None\"])\n",
    "print(liste_3.avg_or_med(\"avg\"))\n",
    "liste_4 = Imputer([\"None\", 2, 4, 10, 7, \"None\"])\n",
    "print(liste_4.avg_or_med(\"med\"))"
   ]
  },
  {
   "cell_type": "code",
   "execution_count": 185,
   "metadata": {},
   "outputs": [
    {
     "name": "stdout",
     "output_type": "stream",
     "text": [
      "Voici notre quiz, tu as trois chances !\n",
      "Dommage ! Il te reste 2 chances\n",
      "Dommage ! Il te reste 1 chances\n",
      "Bravo ! Tu as gagné le quiz !\n"
     ]
    }
   ],
   "source": [
    "### Exo 3\n",
    "\n",
    "def verif_question(question, reponse_juste, nb_de_chances):\n",
    "    reponse_donnee = input(question)\n",
    "    while reponse_donnee != reponse_juste:\n",
    "        nb_de_chances -= 1\n",
    "        print(\"Dommage ! Il te reste {} chances\".format(nb_de_chances))\n",
    "        if nb_de_chances == 0:\n",
    "            print(\"Oh non ! Tu as perdu le jeu...\")\n",
    "            break\n",
    "        reponse_donnee = input(question)\n",
    "    return(nb_de_chances)\n",
    "\n",
    "nb_de_chances = 3\n",
    "\n",
    "print(\"Voici notre quiz, tu as trois chances !\")\n",
    "\n",
    "if nb_de_chances > 0:\n",
    "    nb_de_chances = verif_question(\"Combien de fois la France a gagné la coupe du monde ? \", \"2\", nb_de_chances)\n",
    "\n",
    "if nb_de_chances > 0:\n",
    "    nb_de_chances = verif_question(\"Quand a été fondé Apple ? \", \"1976\", nb_de_chances)\n",
    "\n",
    "if nb_de_chances > 0:\n",
    "    nb_de_chances = verif_question(\"Qui a fondé SpaceX ? \", \"elon musk\", nb_de_chances)\n",
    "\n",
    "if nb_de_chances > 0:\n",
    "    print(\"Bravo ! Tu as gagné le quiz !\")"
   ]
  }
 ],
 "metadata": {
  "kernelspec": {
   "display_name": "base",
   "language": "python",
   "name": "python3"
  },
  "language_info": {
   "codemirror_mode": {
    "name": "ipython",
    "version": 3
   },
   "file_extension": ".py",
   "mimetype": "text/x-python",
   "name": "python",
   "nbconvert_exporter": "python",
   "pygments_lexer": "ipython3",
   "version": "3.12.4"
  }
 },
 "nbformat": 4,
 "nbformat_minor": 2
}
