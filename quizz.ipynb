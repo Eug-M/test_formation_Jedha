{
 "cells": [
  {
   "cell_type": "code",
   "execution_count": null,
   "metadata": {},
   "outputs": [],
   "source": [
    "def verif_question(question, reponse_juste, nb_de_chances):\n",
    "    reponse_donnee = input(question)\n",
    "    while reponse_donnee != reponse_juste:\n",
    "        nb_de_chances -= 1\n",
    "        print(\"Dommage ! Il te reste {} chances\".format(nb_de_chances))\n",
    "        if nb_de_chances == 0:\n",
    "            print(\"Oh non ! Tu as perdu le jeu...\")\n",
    "            break\n",
    "        reponse_donnee = input(question)\n",
    "    return(nb_de_chances)\n",
    "\n",
    "nb_de_chances = 3\n",
    "\n",
    "print(\"Voici notre quiz, tu as trois chances !\")\n",
    "\n",
    "if nb_de_chances > 0:\n",
    "    nb_de_chances = verif_question(\"Quelle est la couleur du cheval blanc d'Henry IV ?\", \"blanc\", nb_de_chances)\n",
    "\n",
    "if nb_de_chances > 0:\n",
    "    nb_de_chances = verif_question(\"Combien font 2 + 2 ?\", \"4\", nb_de_chances)\n",
    "\n",
    "if nb_de_chances > 0:\n",
    "    nb_de_chances = verif_question(\"Qui est le meilleur ?\", \"moi\", nb_de_chances)\n",
    "\n",
    "if nb_de_chances > 0:\n",
    "    print(\"Bravo ! Tu as gagné le quiz !\")"
   ]
  }
 ],
 "metadata": {
  "language_info": {
   "name": "python"
  }
 },
 "nbformat": 4,
 "nbformat_minor": 2
}
